{
 "cells": [
  {
   "cell_type": "markdown",
   "metadata": {},
   "source": [
    "**Generació de les carpetes Luis Rincón**"
   ]
  },
  {
   "cell_type": "code",
   "execution_count": null,
   "metadata": {},
   "outputs": [],
   "source": [
    "!pip install gdown"
   ]
  },
  {
   "cell_type": "code",
   "execution_count": 12,
   "metadata": {},
   "outputs": [],
   "source": [
    "def download_notes(directory: str, subfolders_urls: dict, current_path: str) -> None:\n",
    "    from json import dump\n",
    "\n",
    "    def similar_key(key: str, dictionary: dict) -> str:\n",
    "        from difflib import get_close_matches\n",
    "        # A través del paquet s'importa la funció <<get_close_matches>>\n",
    "        # per trobar coincidències entre el nom de la clau que passa\n",
    "        # l'usuari i les claus del <<dictionary>>. Finalment, s'obté\n",
    "        # el primer nom de la llista de claus similars resultant.\n",
    "        return get_close_matches(key, dictionary.keys())[0]\n",
    "\n",
    "    def download_note(subdirectory: str, subfolder: str,\n",
    "                       line: str, dictionary: dict) -> None:\n",
    "        from gdown import download\n",
    "        # Mitjançant la llibreria s'importa la funció <<download>> per baixar l'arxiu\n",
    "        # que es troba en l'enllaç associat a la clau més similar del <<dictionary>>.\n",
    "        dictionary.get(similar_key(line, dictionary))\n",
    "        output = os.path.join(subdirectory, subfolder, line + \".pdf\")\n",
    "#         download(url=\n",
    "#                  dictionary.get(similar_key(line, dictionary)),\n",
    "#                  output=output, quiet=False, fuzzy=True)\n",
    "\n",
    "    def get_log(file, subdirectory: str, dictionary: dict) -> dict:\n",
    "        enum = 1; log = {}\n",
    "        addv = list.append\n",
    "        for line in file:\n",
    "            if not line.isspace():\n",
    "                line = line.strip().replace(\":\", \" I\")\n",
    "                if line.isupper():\n",
    "                    subfolder = \"{}. {}\".format(enum, line)\n",
    "                    os.makedirs(subfolder, exist_ok=True)\n",
    "                    log[subfolder] = []\n",
    "                    enum += 1\n",
    "                else:\n",
    "                    try: download_note(subdirectory, subfolder, line, dictionary)\n",
    "                    except IndexError: addv(log[subfolder], line)\n",
    "        return log\n",
    "\n",
    "    def iter_log(item) -> dict:\n",
    "        from bs4 import BeautifulSoup; import requests, os\n",
    "        soup = BeautifulSoup(requests.get(item[1]).content, \"html.parser\")\n",
    "        dictionary = {item.get_text(): item.get(\"href\") for item in soup.find_all(\"a\")}\n",
    "        subdirectory = os.path.join(directory, item[0], \"\"); os.chdir(subdirectory)\n",
    "        with open(os.path.join(subdirectory, \"folders.txt\"), \"r\", encoding=\"utf8\") as f:\n",
    "            return get_log(f, subdirectory, dictionary)\n",
    "\n",
    "    os.chdir(directory)\n",
    "    with open(\"logs.json\", \"w\") as logs:\n",
    "        dump(\n",
    "            dict(\n",
    "                zip(\n",
    "                    subfolders_urls.keys(),\n",
    "                    map(\n",
    "                        iter_log,\n",
    "                        subfolders_urls.items()\n",
    "                    )\n",
    "                )\n",
    "            ),\n",
    "            logs\n",
    "        )\n",
    "    os.chdir(current_path)"
   ]
  },
  {
   "cell_type": "markdown",
   "metadata": {},
   "source": [
    "https://www.geeksforgeeks.org/python-create-a-dictionary-using-list-with-none-values/ \\\n",
    "https://www.guru99.com/python-dictionary-append.html"
   ]
  },
  {
   "cell_type": "code",
   "execution_count": 14,
   "metadata": {},
   "outputs": [],
   "source": [
    "import os\n",
    "\n",
    "\n",
    "directory = os.path.join(os.getcwd(), \"directory\", \"\")\n",
    "current_path = os.getcwd()    \n",
    "urls = \\\n",
    "[\n",
    "    \"https://sites.google.com/ciencias.unam.mx/100002-teoria-del-riesgo\",\n",
    "    \"https://sites.google.com/ciencias.unam.mx/0873-simulacion-estocastica\"\n",
    "]\n",
    "subfolders_urls = dict(zip(os.listdir(directory), urls))\n",
    "download_notes(directory, subfolders_urls, current_path)"
   ]
  },
  {
   "cell_type": "code",
   "execution_count": 202,
   "metadata": {},
   "outputs": [
    {
     "data": {
      "text/plain": [
       "{'1. Prova', '10. Prova2', '3. Test', '31. Test2', '8. Prueba', '81. Prueba2'}"
      ]
     },
     "execution_count": 202,
     "metadata": {},
     "output_type": "execute_result"
    }
   ],
   "source": [
    "set({\"1. Prova\": 3, \"3. Test\": 4, \"8. Prueba\": 5, \"10. Prova2\": 6, \"31. Test2\": 8, \"81. Prueba2\": 10})"
   ]
  },
  {
   "cell_type": "code",
   "execution_count": 6,
   "metadata": {},
   "outputs": [],
   "source": [
    "os.chdir('C:\\\\Users\\\\jogot\\\\Desktop\\\\new\\\\')"
   ]
  },
  {
   "cell_type": "code",
   "execution_count": 16,
   "metadata": {},
   "outputs": [
    {
     "name": "stdout",
     "output_type": "stream",
     "text": [
      "{\n",
      "    \"1. Teor\\u00eda del Riesgo\": {\n",
      "        \"1. INTRODUCCI\\u00d3N\": [],\n",
      "        \"2. MODELOS PARA EL PROCESO DEL N\\u00daMERO DE RECLAMACIONES\": [],\n",
      "        \"3. EL PROCESO DEL AGREGADO DE RECLAMACIONES\": [],\n",
      "        \"4. REASEGURO\": [],\n",
      "        \"5. DISTRIBUCIONES CON TASAS DE RIESGO MON\\u00d3TONAS\": [],\n",
      "        \"6. DISTRIBUCIONES DE COLA LIGERA Y PESADA\": [],\n",
      "        \"7. PRINCIPIOS PARA EL C\\u00c1LCULO DE PRIMAS\": [],\n",
      "        \"8. ORDEN DE DISTRIBUCIONES\": [],\n",
      "        \"9. DISTRIBUCIONES A TRAV\\u00c9S DE F\\u00d3RMULAS RECURSIVAS\": [],\n",
      "        \"10. PROCESO DE RIESGO A TIEMPO DISCRETO\": [],\n",
      "        \"11. PROCESO DE RIESGO A TIEMPO CONTINUO\": [],\n",
      "        \"12. PROBABILIDAD DE RUINA PARA RECLAMACIONES TIPO FASE\": []\n",
      "    },\n",
      "    \"8. Simulaci\\u00f3n Estoc\\u00e1stica\": {\n",
      "        \"1. INTRODUCCI\\u00d3N\": [],\n",
      "        \"2. M\\u00c9TODOS PARA GENERAR VALORES DE V.A.S\": [],\n",
      "        \"3. INTEGRACI\\u00d3N MONTECARLO\": [],\n",
      "        \"4. M\\u00c9TODOS DE REDUCCI\\u00d3N DE VARIANZA\": [],\n",
      "        \"5. T\\u00c9CNICAS DE CADENAS DE MARKOV DE MONTE CARLO\": [],\n",
      "        \"6. APLICACIONES EN LA ESTAD\\u00cdSTICA\": []\n",
      "    }\n",
      "}\n"
     ]
    }
   ],
   "source": [
    "import json\n",
    "\n",
    "\n",
    "print(\n",
    "    json.dumps(\n",
    "        json.load(\n",
    "            open(\n",
    "                os.path.join(directory, \"logs.json\"), mode=\"r\"\n",
    "            )\n",
    "        ), \n",
    "        indent=4\n",
    "    )\n",
    ")"
   ]
  },
  {
   "cell_type": "code",
   "execution_count": 10,
   "metadata": {},
   "outputs": [
    {
     "data": {
      "text/plain": [
       "{'1. Teoría del Riesgo': 'https://sites.google.com/ciencias.unam.mx/100002-teoria-del-riesgo',\n",
       " '8. Simulación Estocástica': 'https://sites.google.com/ciencias.unam.mx/0873-simulacion-estocastica'}"
      ]
     },
     "execution_count": 10,
     "metadata": {},
     "output_type": "execute_result"
    }
   ],
   "source": [
    "subfolders_urls"
   ]
  },
  {
   "cell_type": "code",
   "execution_count": 9,
   "metadata": {},
   "outputs": [
    {
     "name": "stdout",
     "output_type": "stream",
     "text": [
      "ï»¿1. TeorÃ­a del Riesgo;https://sites.google.com/ciencias.unam.mx/100002-teoria-del-riesgo\n",
      "8. SimulaciÃ³n EstocÃ¡stica;https://sites.google.com/ciencias.unam.mx/0873-simulacion-estocastica\n"
     ]
    }
   ],
   "source": [
    "! cat subfolders_urls.csv | head"
   ]
  }
 ],
 "metadata": {
  "kernelspec": {
   "display_name": "Python 3 (ipykernel)",
   "language": "python",
   "name": "python3"
  },
  "language_info": {
   "codemirror_mode": {
    "name": "ipython",
    "version": 3
   },
   "file_extension": ".py",
   "mimetype": "text/x-python",
   "name": "python",
   "nbconvert_exporter": "python",
   "pygments_lexer": "ipython3",
   "version": "3.9.12"
  }
 },
 "nbformat": 4,
 "nbformat_minor": 1
}
