{
 "cells": [
  {
   "cell_type": "markdown",
   "metadata": {},
   "source": [
    "**Generació de les carpetes dels capítols**"
   ]
  },
  {
   "cell_type": "code",
   "execution_count": 48,
   "metadata": {},
   "outputs": [],
   "source": [
    "import os\n",
    "\n",
    "directory = r\"C:\\Users\\jogot\\OneDrive - Universitat Oberta de Catalunya\\DATA SCIENCE\\DataCamp\\Projects\"\n",
    "subdirectories = [subpath for subpath in os.listdir(directory) if subpath != \"README.md\"]\n",
    "\n",
    "for subdirectory in subdirectories:\n",
    "    path = directory + \"\\\\\" + subdirectory\n",
    "    os.chdir(path); path = path + r\"\\folders.txt\"\n",
    "    with open(path, 'r') as file:\n",
    "        for line in file: \n",
    "            line = line.strip(); os.mkdir(line)\n",
    "    os.remove(path)"
   ]
  },
  {
   "cell_type": "code",
   "execution_count": 40,
   "metadata": {},
   "outputs": [
    {
     "name": "stdout",
     "output_type": "stream",
     "text": [
      "1 Introduction \n",
      "\n",
      "  + [Machine Learning & Spark](1%20Introduction/1.%20Machine%20Learning%20&%20Spark) -------------------------------------------------------------------------------------------------- 50 xp\n",
      "  + [Characteristics of Spark](1%20Introduction/2.%20Characteristics%20of%20Spark) -------------------------------------------------------------------------------------------------- 50 xp\n",
      "  + [Components in a Spark Cluster](1%20Introduction/3.%20Components%20in%20a%20Spark%20Cluster) --------------------------------------------------------------------------------------------- 50 xp\n",
      "  + [Connecting to Spark](1%20Introduction/4.%20Connecting%20to%20Spark) ------------------------------------------------------------------------------------------------------- 50 xp\n",
      "  + [Location of Spark master](1%20Introduction/5.%20Location%20of%20Spark%20master) -------------------------------------------------------------------------------------------------- 50 xp\n",
      "  + [Creating a SparkSession](1%20Introduction/6.%20Creating%20a%20SparkSession) --------------------------------------------------------------------------------------------------- 100 xp\n",
      "  + [Loading Data](1%20Introduction/7.%20Loading%20Data) -------------------------------------------------------------------------------------------------------------- 50 xp\n",
      "  + [Loading flights data](1%20Introduction/8.%20Loading%20flights%20data) ------------------------------------------------------------------------------------------------------ 100 xp\n",
      "  + [Loading SMS spam data](1%20Introduction/9.%20Loading%20SMS%20spam%20data) ----------------------------------------------------------------------------------------------------- 100 xp\n",
      "\n",
      "\n",
      "2 Classification \n",
      "\n",
      "  + [Data Preparation](2%20Classification/1.%20Data%20Preparation) ---------------------------------------------------------------------------------------------------------- 50 xp\n",
      "  + [Removing columns and rows](2%20Classification/2.%20Removing%20columns%20and%20rows) ------------------------------------------------------------------------------------------------- 100 xp\n",
      "  + [Column manipulation](2%20Classification/3.%20Column%20manipulation) ------------------------------------------------------------------------------------------------------- 100 xp\n",
      "  + [Categorical columns](2%20Classification/4.%20Categorical%20columns) ------------------------------------------------------------------------------------------------------- 100 xp\n",
      "  + [Assembling columns](2%20Classification/5.%20Assembling%20columns) -------------------------------------------------------------------------------------------------------- 100 xp\n",
      "  + [Decision Tree](2%20Classification/6.%20Decision%20Tree) ------------------------------------------------------------------------------------------------------------- 50 xp\n",
      "  + [Train/test split](2%20Classification/7.%20Train/test%20split) ---------------------------------------------------------------------------------------------------------- 100 xp\n",
      "  + [Build a Decision Tree](2%20Classification/8.%20Build%20a%20Decision%20Tree) ----------------------------------------------------------------------------------------------------- 100 xp\n",
      "  + [Evaluate the Decision Tree](2%20Classification/9.%20Evaluate%20the%20Decision%20Tree) ------------------------------------------------------------------------------------------------ 100 xp\n",
      "  + [Logistic Regression](2%20Classification/10.%20Logistic%20Regression) ------------------------------------------------------------------------------------------------------- 50 xp\n",
      "  + [Build a Logistic Regression model](2%20Classification/11.%20Build%20a%20Logistic%20Regression%20model) ----------------------------------------------------------------------------------------- 100 xp\n",
      "  + [Evaluate the Logistic Regression model](2%20Classification/12.%20Evaluate%20the%20Logistic%20Regression%20model) ------------------------------------------------------------------------------------ 100 xp\n",
      "  + [Turning Text into Tables](2%20Classification/13.%20Turning%20Text%20into%20Tables) -------------------------------------------------------------------------------------------------- 50 xp\n",
      "  + [Punctuation, numbers and tokens](2%20Classification/14.%20Punctuation,%20numbers%20and%20tokens) ------------------------------------------------------------------------------------------- 100 xp\n",
      "  + [Stop words and hashing](2%20Classification/15.%20Stop%20words%20and%20hashing) ---------------------------------------------------------------------------------------------------- 100 xp\n",
      "  + [Training a spam classifier](2%20Classification/16.%20Training%20a%20spam%20classifier) ------------------------------------------------------------------------------------------------ 100 xp\n",
      "\n",
      "\n",
      "3 Regression \n",
      "\n",
      "  + [One-Hot Encoding](3%20Regression/1.%20One-Hot%20Encoding) ---------------------------------------------------------------------------------------------------------- 50 xp\n",
      "  + [Encoding flight origin](3%20Regression/2.%20Encoding%20flight%20origin) ---------------------------------------------------------------------------------------------------- 100 xp\n",
      "  + [Encoding shirt sizes](3%20Regression/3.%20Encoding%20shirt%20sizes) ------------------------------------------------------------------------------------------------------ 50 xp\n",
      "  + [Regression](3%20Regression/4.%20Regression) ---------------------------------------------------------------------------------------------------------------- 50 xp\n",
      "  + [Flight duration model: Just distance](3%20Regression/5.%20Flight%20duration%20model%20I%20Just%20distance) -------------------------------------------------------------------------------------- 100 xp\n",
      "  + [Interpreting the coefficients](3%20Regression/6.%20Interpreting%20the%20coefficients) --------------------------------------------------------------------------------------------- 100 xp\n",
      "  + [Flight duration model: Adding origin airport](3%20Regression/7.%20Flight%20duration%20model%20I%20Adding%20origin%20airport) ------------------------------------------------------------------------------ 100 xp\n",
      "  + [Interpreting coefficients](3%20Regression/8.%20Interpreting%20coefficients) ------------------------------------------------------------------------------------------------- 100 xp\n",
      "  + [Bucketing & Engineering](3%20Regression/9.%20Bucketing%20&%20Engineering) --------------------------------------------------------------------------------------------------- 50 xp\n",
      "  + [Bucketing departure time](3%20Regression/10.%20Bucketing%20departure%20time) -------------------------------------------------------------------------------------------------- 100 xp\n",
      "  + [Flight duration model: Adding departure time](3%20Regression/11.%20Flight%20duration%20model%20I%20Adding%20departure%20time) ------------------------------------------------------------------------------ 100 xp\n",
      "  + [Regularization](3%20Regression/12.%20Regularization) ------------------------------------------------------------------------------------------------------------ 50 xp\n",
      "  + [Flight duration model: More features!](3%20Regression/13.%20Flight%20duration%20model%20I%20More%20features!) ------------------------------------------------------------------------------------- 100 xp\n",
      "  + [Flight duration model: Regularization!](3%20Regression/14.%20Flight%20duration%20model%20I%20Regularization!) ------------------------------------------------------------------------------------ 100 xp\n",
      "\n",
      "\n",
      "4 Ensembles & Pipelines \n",
      "\n",
      "  + [Pipeline](4%20Ensembles%20&%20Pipelines/1.%20Pipeline) ------------------------------------------------------------------------------------------------------------------ 50 xp\n",
      "  + [Flight duration model: Pipeline stages](4%20Ensembles%20&%20Pipelines/2.%20Flight%20duration%20model%20I%20Pipeline%20stages) ------------------------------------------------------------------------------------ 100 xp\n",
      "  + [Flight duration model: Pipeline model](4%20Ensembles%20&%20Pipelines/3.%20Flight%20duration%20model%20I%20Pipeline%20model) ------------------------------------------------------------------------------------- 100 xp\n",
      "  + [SMS spam pipeline](4%20Ensembles%20&%20Pipelines/4.%20SMS%20spam%20pipeline) --------------------------------------------------------------------------------------------------------- 100 xp\n",
      "  + [Cross-Validation](4%20Ensembles%20&%20Pipelines/5.%20Cross-Validation) ---------------------------------------------------------------------------------------------------------- 50 xp\n",
      "  + [Cross validating simple flight duration model](4%20Ensembles%20&%20Pipelines/6.%20Cross%20validating%20simple%20flight%20duration%20model) ----------------------------------------------------------------------------- 100 xp\n",
      "  + [Cross validating flight duration model pipeline](4%20Ensembles%20&%20Pipelines/7.%20Cross%20validating%20flight%20duration%20model%20pipeline) --------------------------------------------------------------------------- 100 xp\n",
      "  + [Grid Search](4%20Ensembles%20&%20Pipelines/8.%20Grid%20Search) --------------------------------------------------------------------------------------------------------------- 50 xp\n",
      "  + [Optimizing flights linear regression](4%20Ensembles%20&%20Pipelines/9.%20Optimizing%20flights%20linear%20regression) -------------------------------------------------------------------------------------- 100 xp\n",
      "  + [Dissecting the best flight duration model](4%20Ensembles%20&%20Pipelines/10.%20Dissecting%20the%20best%20flight%20duration%20model) --------------------------------------------------------------------------------- 100 xp\n",
      "  + [SMS spam optimised](4%20Ensembles%20&%20Pipelines/11.%20SMS%20spam%20optimised) -------------------------------------------------------------------------------------------------------- 100 xp\n",
      "  + [How many models for grid search?](4%20Ensembles%20&%20Pipelines/12.%20How%20many%20models%20for%20grid%20search) ------------------------------------------------------------------------------------------ 50 xp\n",
      "  + [Ensemble](4%20Ensembles%20&%20Pipelines/13.%20Ensemble) ------------------------------------------------------------------------------------------------------------------ 50 xp\n",
      "  + [Delayed flights with Gradient-Boosted Trees](4%20Ensembles%20&%20Pipelines/14.%20Delayed%20flights%20with%20Gradient-Boosted%20Trees) ------------------------------------------------------------------------------- 100 xp\n",
      "  + [Delayed flights with a Random Forest](4%20Ensembles%20&%20Pipelines/15.%20Delayed%20flights%20with%20a%20Random%20Forest) -------------------------------------------------------------------------------------- 100 xp\n",
      "  + [Evaluating Random Forest](4%20Ensembles%20&%20Pipelines/16.%20Evaluating%20Random%20Forest) -------------------------------------------------------------------------------------------------- 100 xp\n",
      "  + [Closing thoughts](4%20Ensembles%20&%20Pipelines/17.%20Closing%20thoughts) ---------------------------------------------------------------------------------------------------------- 50 xp\n",
      "\n",
      "\n"
     ]
    }
   ],
   "source": [
    "import os\n",
    "\n",
    "current_path = os.getcwd()\n",
    "directory = r\"C:\\Users\\jogot\\OneDrive - Universitat Oberta de Catalunya\\DATA SCIENCE\" + \\\n",
    "            r\"\\DataCamp\\Courses\\Machine Learning\\Python\\Machine Learning with PySpark\"\n",
    "discard = [\"datasets\", \"certificate.pdf\", \"README.md\", \"style-course-description.svg\"]\n",
    "subfolders = [s for s in os.listdir(directory) if s not in discard]\n",
    "# subdirectories = list(map(lambda subfolder: os.path.join(directory, subfolder, \"\"),\n",
    "#                           filter(lambda s: s not in discard, os.listdir(directory))))\n",
    "\n",
    "for subfold in subfolders:\n",
    "    subdire = os.path.join(directory, subfold, \"\")\n",
    "    subpath = os.path.join(subdire, \"folders.txt\")\n",
    "    sublink = subfold.replace(\" \", \"%20\")\n",
    "    os.chdir(subdire); enum = 1\n",
    "    print(subfold, \"\\n\")\n",
    "    file = open(subpath, \"r\")\n",
    "    for line in file:\n",
    "        if not line.isspace():\n",
    "            line = line.strip()\n",
    "            if line not in (\"50 xp\", \"100 xp\"):\n",
    "                subfold = \"{}. {}\".format(enum, line.replace(\":\", \" I\").replace(\"?\", \"\"))\n",
    "                comlink = sublink + \"/\" + subfold.replace(\" \", \"%20\")\n",
    "                os.makedirs(subfold, exist_ok=True)\n",
    "                title = line; enum += 1\n",
    "            else:\n",
    "                print(\n",
    "                    \"  + [{}]({}) {} {}\".format(title, comlink, \"-\" * (122 - len(title + line)), line)\n",
    "                )\n",
    "    print(\"\\n\")\n",
    "    file.close()\n",
    "\n",
    "os.chdir(current_path)"
   ]
  },
  {
   "cell_type": "code",
   "execution_count": 33,
   "metadata": {},
   "outputs": [
    {
     "data": {
      "text/plain": [
       "'C:\\\\Users\\\\jogot\\\\OneDrive - Universitat Oberta de Catalunya\\\\DATA SCIENCE\\\\DataCamp'"
      ]
     },
     "execution_count": 33,
     "metadata": {},
     "output_type": "execute_result"
    }
   ],
   "source": [
    "os.chdir(current_path)\n",
    "current_path"
   ]
  }
 ],
 "metadata": {
  "kernelspec": {
   "display_name": "Python 3 (ipykernel)",
   "language": "python",
   "name": "python3"
  },
  "language_info": {
   "codemirror_mode": {
    "name": "ipython",
    "version": 3
   },
   "file_extension": ".py",
   "mimetype": "text/x-python",
   "name": "python",
   "nbconvert_exporter": "python",
   "pygments_lexer": "ipython3",
   "version": "3.9.12"
  }
 },
 "nbformat": 4,
 "nbformat_minor": 1
}
